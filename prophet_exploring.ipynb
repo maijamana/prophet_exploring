{
 "cells": [
  {
   "cell_type": "code",
   "execution_count": null,
   "metadata": {},
   "outputs": [],
   "source": [
    "import numpy as np\n",
    "import pandas as pd\n",
    "import matplotlib.pyplot as plt\n",
    "from prophet import Prophet\n",
    "import matplotlib.dates as mdates\n",
    "from sklearn.metrics import mean_squared_error, r2_score, mean_absolute_percentage_error"
   ]
  },
  {
   "cell_type": "code",
   "execution_count": null,
   "metadata": {},
   "outputs": [],
   "source": [
    "data = pd.read_csv('/content/OOR.V.csv')\n",
    "data = data[[\"Date\",\"Close\"]]\n",
    "\n",
    "# Converting the 'Date' column to a date type\n",
    "data['Date'] = pd.to_datetime(data['Date'])\n",
    "# Create a date range from the minimum to the maximum date in the initial dataset\n",
    "date_range = pd.date_range(start=data['Date'].min(), end=data['Date'].max())\n",
    "print(data)\n",
    "# Complete dataset with all dates\n",
    "full_df = pd.DataFrame({'Date': date_range})\n",
    "# Merging the original dataset with the full dataset to add missing dates\n",
    "data = pd.merge(full_df, data, on='Date', how='left')\n",
    "# Filling 'Close' values ​​to None for new dates\n",
    "data['Close'] = np.where(data['Close'].isna(), None, data['Close'])\n",
    "data['Close'] = data['Close'].replace(to_replace=None, method='ffill')\n",
    "\n",
    "# Leave three months for the test\n",
    "data_2022_2023 = data[(data['Date'] >= '2022-07-22') & (data['Date'] <= '2022-10-22')]\n",
    "# Change the date format\n",
    "data_2022_2023.loc[:, 'Date'] = pd.to_datetime(data_2022_2023.loc[:,'Date'], format=\"%Y/%m/%d\")\n",
    "# Leave 7 years left for model training\n",
    "data = data[(data['Date'] >= '2015-07-21') & (data['Date'] < '2022-07-22')]\n",
    "data = data.rename(columns = {\"Date\":\"ds\",\"Close\":\"y\"})\n",
    "print(data)"
   ]
  },
  {
   "cell_type": "code",
   "execution_count": null,
   "metadata": {},
   "outputs": [],
   "source": [
    "m = Prophet(daily_seasonality = True)\n",
    "m.fit(data)\n",
    "# Predict for 90 days - three months\n",
    "future = m.make_future_dataframe(periods=93)\n",
    "prediction = m.predict(future)\n",
    "\n",
    "# Building a plot\n",
    "m.plot(prediction)\n",
    "plt.title(\"Prediction of the Amazon Stock Price using the Prophet\")\n",
    "plt.xlabel(\"Date\")\n",
    "plt.ylabel(\"Close Stock Price\")\n",
    "plt.show()"
   ]
  },
  {
   "cell_type": "code",
   "execution_count": null,
   "metadata": {},
   "outputs": [],
   "source": [
    "# Run the cycle for 47 iterations of 2 days - three months\n",
    "for i in range(47):\n",
    "    # Train the model for seven years and predict the next two days\n",
    "    m = Prophet(daily_seasonality = True)\n",
    "    m.fit(data)\n",
    "    future = m.make_future_dataframe(periods=2)\n",
    "    prediction_2days = m.predict(future)\n",
    "    # In prediction_df leave only those days that was just predicted\n",
    "    prediction_df = prediction_2days[prediction_2days['ds'] > data[\"ds\"].max()]\n",
    "    # Add them to data df\n",
    "    row = pd.DataFrame({\"ds\": prediction_df['ds'],\n",
    "                        \"y\": prediction_df['trend']})\n",
    "    data = pd.concat([data, row])\n",
    "    # Change the date format again\n",
    "    data.loc[:, 'ds'] = pd.to_datetime(data.loc[:,'ds'], format=\"%Y/%m/%d\")\n",
    "print(data)"
   ]
  },
  {
   "cell_type": "code",
   "execution_count": null,
   "metadata": {},
   "outputs": [],
   "source": [
    "formatter = mdates.DateFormatter(\"%Y\")\n",
    "locator = mdates.YearLocator()\n",
    "fig = plt.figure(figsize=(7, 5))\n",
    "ax = plt.gca()\n",
    "ax.xaxis.set_major_formatter(formatter)\n",
    "ax.xaxis.set_major_locator(locator)\n",
    "plt.scatter(data_2022_2023['Date'], data_2022_2023['Close'], s=10)\n",
    "plt.tight_layout()\n",
    "plt.show()\n"
   ]
  },
  {
   "cell_type": "code",
   "execution_count": null,
   "metadata": {},
   "outputs": [],
   "source": [
    "prediction_df = prediction[(prediction['ds'] >= '2022-07-22') & (prediction['ds'] <= '2022-10-22')]\n",
    "prediction_trend = prediction_df['trend'].values\n",
    "actual = data_2022_2023['Close'].values\n",
    "mape = mean_absolute_percentage_error(actual, prediction_trend)\n",
    "r2 = r2_score(actual, prediction_trend)\n",
    "MSE = np.square(np.subtract(actual, prediction_trend)).mean()\n",
    "RMSE = MSE**(0.5)\n",
    "print('MAPE', mape, '\\nR^2', r2, '\\nRMSE', RMSE)"
   ]
  },
  {
   "cell_type": "code",
   "execution_count": null,
   "metadata": {},
   "outputs": [],
   "source": [
    "prediction_trend_2 = data[(data['ds'] >= '2022-07-22') & (data['ds'] <= '2022-10-22')]\n",
    "prediction_trend_2 = prediction_trend_2['y'].values\n",
    "actual2 = data_2022_2023['Close'].values\n",
    "mape2 = mean_absolute_percentage_error(actual2, prediction_trend_2)\n",
    "r2_2 = r2_score(actual2, prediction_trend_2)\n",
    "MSE2 = np.square(np.subtract(actual2, prediction_trend_2)).mean()\n",
    "RMSE2 = MSE2**(0.5)\n",
    "print('MAPE2', mape2, '\\nR^2', r2_2, '\\nRMSE', RMSE2)"
   ]
  }
 ],
 "metadata": {
  "language_info": {
   "name": "python"
  },
  "orig_nbformat": 4
 },
 "nbformat": 4,
 "nbformat_minor": 2
}
